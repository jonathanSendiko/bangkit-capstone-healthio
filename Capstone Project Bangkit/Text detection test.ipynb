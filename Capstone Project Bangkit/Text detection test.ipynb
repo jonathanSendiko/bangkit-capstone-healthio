{
 "cells": [
  {
   "cell_type": "code",
   "execution_count": 14,
   "metadata": {},
   "outputs": [],
   "source": [
    "import cv2\n",
    "import pytesseract\n",
    "import numpy"
   ]
  },
  {
   "cell_type": "code",
   "execution_count": 19,
   "metadata": {
    "scrolled": true
   },
   "outputs": [],
   "source": [
    "pytesseract.pytesseract.tesseract_cmd = 'C:/Program Files/Tesseract-OCR/tesseract.exe'\n",
    "\n",
    "input = cv2.imread('download.png')"
   ]
  },
  {
   "cell_type": "code",
   "execution_count": 20,
   "metadata": {},
   "outputs": [],
   "source": [
    "def grayscale_image(image):\n",
    "    return cv2.cvtColor(image, cv2.COLOR_BGR2GRAY)\n",
    "\n",
    "def noise_removal(image):\n",
    "    return cv2.medianBlur(image, 5)\n",
    "\n",
    "def thresholding(image):\n",
    "    return cv2.threshold(image, 0, 255, cv2.THRESH_BINARY + cv2.THRESH_OTSU)[1]\n",
    "\n",
    "def dilation(image):\n",
    "    kernel = numpy.ones((5, 5), np.uint8)\n",
    "    return cv2.dilate(image, kernel, iterations=1)\n",
    "\n",
    "def erosion(image):\n",
    "    kernel = numpy.ones((5,5),np.uint8)\n",
    "    return cv2.erode(image, kernel, iterations = 1)\n",
    "\n",
    "def opening(image):\n",
    "    kernel = numpy.ones((5,5), numpy.uint8)\n",
    "    return cv2.morphologyEx(image, cv2.MORPH_OPEN, kernel)\n",
    "\n",
    "def canny(image):\n",
    "    return cv2.Canny(image, 100, 200)\n",
    "\n",
    "def deskew(image):\n",
    "    coords = numpy.column_stack(np.where(image > 0))\n",
    "    angle = cv2.minAreaRect(coords)[-1]\n",
    "    if angle < -45:\n",
    "        angle = -(90 + angle)\n",
    "    else:\n",
    "        angle = -angle\n",
    "    (h, w) = image.shape[:2]\n",
    "    center = (w // 2, h // 2)\n",
    "    M = cv2.getRotationMatrix2D(center, angle, 1.0)\n",
    "    rotated = cv2.warpAffine(image, M, (w, h), flags=cv2.INTER_CUBIC, borderMode=cv2.BORDER_REPLICATE)\n",
    "    return rotated\n",
    "\n",
    "def match_template(image, template):\n",
    "    return cv2.matchTemplate(image, template, cv2.TM_CCOEFF_NORMED) "
   ]
  },
  {
   "cell_type": "code",
   "execution_count": 21,
   "metadata": {},
   "outputs": [],
   "source": [
    "gray = cv2.cvtColor(input, cv2.COLOR_BGR2GRAY)\n",
    "  \n",
    "# Performing OTSU threshold\n",
    "ret, thresh1 = cv2.threshold(gray, 0, 255, cv2.THRESH_OTSU | cv2.THRESH_BINARY_INV)\n",
    "  \n",
    "# Specify structure shape and kernel size. \n",
    "# Kernel size increases or decreases the area \n",
    "# of the rectangle to be detected.\n",
    "# A smaller value like (10, 10) will detect \n",
    "# each word instead of a sentence.\n",
    "rect_kernel = cv2.getStructuringElement(cv2.MORPH_RECT, (18, 18))\n",
    "  \n",
    "# Appplying dilation on the threshold image\n",
    "dilation = cv2.dilate(thresh1, rect_kernel, iterations = 1)\n",
    "  \n",
    "# Finding contours\n",
    "contours, hierarchy = cv2.findContours(dilation, cv2.RETR_EXTERNAL, \n",
    "                                                 cv2.CHAIN_APPROX_NONE)"
   ]
  },
  {
   "cell_type": "code",
   "execution_count": 22,
   "metadata": {},
   "outputs": [],
   "source": [
    "image = input.copy()\n",
    "\n",
    "file = open('recognized.txt', 'w+')\n",
    "file.write('')\n",
    "file.close()\n",
    "\n",
    "for cnt in contours:\n",
    "    x, y, w, h = cv2.boundingRect(cnt)\n",
    "      \n",
    "    # Drawing a rectangle on copied image\n",
    "    rect = cv2.rectangle(image, (x, y), (x + w, y + h), (0, 255, 0), 2)\n",
    "      \n",
    "    # Cropping the text block for giving input to OCR\n",
    "    cropped = image[y:y + h, x:x + w]\n",
    "      \n",
    "    # Open the file in append mode\n",
    "    file = open(\"recognized.txt\", \"a\")\n",
    "      \n",
    "    # Apply OCR on the cropped image\n",
    "    text = pytesseract.image_to_string(cropped)\n",
    "      \n",
    "    # Appending the text into file\n",
    "    file.write(text)\n",
    "    file.write(\"\\n\")\n",
    "      \n",
    "    # Close the file\n",
    "    file.close"
   ]
  },
  {
   "cell_type": "code",
   "execution_count": null,
   "metadata": {},
   "outputs": [],
   "source": []
  }
 ],
 "metadata": {
  "kernelspec": {
   "display_name": "Python 3",
   "language": "python",
   "name": "python3"
  },
  "language_info": {
   "codemirror_mode": {
    "name": "ipython",
    "version": 3
   },
   "file_extension": ".py",
   "mimetype": "text/x-python",
   "name": "python",
   "nbconvert_exporter": "python",
   "pygments_lexer": "ipython3",
   "version": "3.7.4"
  }
 },
 "nbformat": 4,
 "nbformat_minor": 2
}
