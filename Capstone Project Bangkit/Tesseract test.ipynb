{
 "cells": [
  {
   "cell_type": "code",
   "execution_count": 7,
   "metadata": {
    "scrolled": false
   },
   "outputs": [
    {
     "name": "stdout",
     "output_type": "stream",
     "text": [
      "Requirement already satisfied: pillow in c:\\users\\putri\\anaconda3\\lib\\site-packages (6.2.0)\n",
      "Requirement already satisfied: pytesseract in c:\\users\\putri\\anaconda3\\lib\\site-packages (0.3.7)\n",
      "Requirement already satisfied: Pillow in c:\\users\\putri\\anaconda3\\lib\\site-packages (from pytesseract) (6.2.0)\n"
     ]
    }
   ],
   "source": [
    "!pip install pillow\n",
    "!pip install pytesseract"
   ]
  },
  {
   "cell_type": "code",
   "execution_count": 15,
   "metadata": {},
   "outputs": [],
   "source": [
    "from PIL import Image\n",
    "import cv2\n",
    "import pytesseract\n",
    "from matplotlib import pyplot"
   ]
  },
  {
   "cell_type": "code",
   "execution_count": 16,
   "metadata": {},
   "outputs": [],
   "source": [
    "pytesseract.pytesseract.tesseract_cmd = r'C:/Program Files/Tesseract-OCR/tesseract.exe'"
   ]
  },
  {
   "cell_type": "code",
   "execution_count": 20,
   "metadata": {
    "scrolled": true
   },
   "outputs": [
    {
     "name": "stdout",
     "output_type": "stream",
     "text": [
      "Divisi Regional REGIONAL Vi-\n",
      "Kantor Cabang PURWOKERTO:\n",
      "\n",
      "(&) eesKesehaten\n",
      "\n",
      "RUSUKAN posgesmss\n",
      "cima T RIUUKAN PESERTA\n",
      "\n",
      " \n",
      "\n",
      "   \n",
      " \n",
      " \n",
      "\n",
      "    \n",
      "   \n",
      "  \n",
      "\n",
      "Nomor Rujukan 440/44 24. /20lS\n",
      "Puskesmas | - Purwokerto Timur Kode: 1902\n",
      "Banyumas Kode: 0-142\n",
      "\n",
      "     \n",
      "\n",
      "Kabupaten\n",
      "\n",
      "  \n",
      " \n",
      " \n",
      "   \n",
      "\n",
      "Kepada Yth. TS dr. Poli Pot Mace\n",
      "Di RSU BKM\n",
      "‘Mohon pemeriksaan dan penanganan Aanjut penderita\n",
      "Nama Paar, Is ~ Umur VY Tahun {pe 1)\n",
      "No. Kartu BPIS 000 13}.203635> Status\n",
      "i gangguan UGUS\n",
      "\n",
      "Diagnosa\n",
      "\n",
      "   \n",
      "\f",
      "\n"
     ]
    }
   ],
   "source": [
    "image = cv2.imread('Contoh-Surat-Rujukan-Faskes-1-BPJS-Kesehatan.jpg')\n",
    "text = pytesseract.image_to_string(image)\n",
    "print(text)"
   ]
  },
  {
   "cell_type": "code",
   "execution_count": null,
   "metadata": {},
   "outputs": [],
   "source": []
  }
 ],
 "metadata": {
  "kernelspec": {
   "display_name": "Python 3",
   "language": "python",
   "name": "python3"
  },
  "language_info": {
   "codemirror_mode": {
    "name": "ipython",
    "version": 3
   },
   "file_extension": ".py",
   "mimetype": "text/x-python",
   "name": "python",
   "nbconvert_exporter": "python",
   "pygments_lexer": "ipython3",
   "version": "3.7.4"
  }
 },
 "nbformat": 4,
 "nbformat_minor": 2
}
